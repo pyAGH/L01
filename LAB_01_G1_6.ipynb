{
 "cells": [
  {
   "cell_type": "markdown",
   "metadata": {},
   "source": [
    "Lab_01, grupa 1.6, 15.05.2022\n",
    "Termin realizacji: 29.05.2022\n",
    "\n",
    "Wykonawcy:\n",
    "...\n",
    "...\n",
    "..."
   ]
  },
  {
   "cell_type": "markdown",
   "metadata": {},
   "source": [
    "# 1. Podstawowe obliczenia macierzowe i iteracyjne"
   ]
  },
  {
   "cell_type": "code",
   "execution_count": 3,
   "metadata": {},
   "outputs": [
    {
     "name": "stdout",
     "output_type": "stream",
     "text": [
      "Requirement already satisfied: numpy in /Users/ce/opt/anaconda3/lib/python3.8/site-packages (1.20.1)\n",
      "Requirement already satisfied: matplotlib in /Users/ce/opt/anaconda3/lib/python3.8/site-packages (3.3.4)\n",
      "Requirement already satisfied: cycler>=0.10 in /Users/ce/opt/anaconda3/lib/python3.8/site-packages (from matplotlib) (0.10.0)\n",
      "Requirement already satisfied: numpy>=1.15 in /Users/ce/opt/anaconda3/lib/python3.8/site-packages (from matplotlib) (1.20.1)\n",
      "Requirement already satisfied: python-dateutil>=2.1 in /Users/ce/opt/anaconda3/lib/python3.8/site-packages (from matplotlib) (2.8.1)\n",
      "Requirement already satisfied: pyparsing!=2.0.4,!=2.1.2,!=2.1.6,>=2.0.3 in /Users/ce/opt/anaconda3/lib/python3.8/site-packages (from matplotlib) (2.4.7)\n",
      "Requirement already satisfied: pillow>=6.2.0 in /Users/ce/opt/anaconda3/lib/python3.8/site-packages (from matplotlib) (8.2.0)\n",
      "Requirement already satisfied: kiwisolver>=1.0.1 in /Users/ce/opt/anaconda3/lib/python3.8/site-packages (from matplotlib) (1.3.1)\n",
      "Requirement already satisfied: six in /Users/ce/opt/anaconda3/lib/python3.8/site-packages (from cycler>=0.10->matplotlib) (1.15.0)\n",
      "Requirement already satisfied: scipy in /Users/ce/opt/anaconda3/lib/python3.8/site-packages (1.6.2)\n",
      "Requirement already satisfied: numpy<1.23.0,>=1.16.5 in /Users/ce/opt/anaconda3/lib/python3.8/site-packages (from scipy) (1.20.1)\n",
      "Requirement already satisfied: bitstring in /Users/ce/opt/anaconda3/lib/python3.8/site-packages (3.1.9)\n"
     ]
    }
   ],
   "source": [
    "import sys\n",
    "!{sys.executable} -m pip install numpy\n",
    "!{sys.executable} -m pip install matplotlib\n",
    "!{sys.executable} -m pip install scipy\n",
    "!{sys.executable} -m pip install bitstring"
   ]
  },
  {
   "cell_type": "markdown",
   "metadata": {},
   "source": [
    "#### Zadanie 1.1 \n",
    "Zaimportuj pakiet numpy oraz matplotlib.pyplot"
   ]
  },
  {
   "cell_type": "code",
   "execution_count": 4,
   "metadata": {},
   "outputs": [],
   "source": [
    "import numpy as np\n",
    "import matplotlib.pyplot as plt"
   ]
  },
  {
   "cell_type": "markdown",
   "metadata": {},
   "source": [
    "#### Zadanie 1.2 \n",
    "Utwórz tablicę **t1**:[10x10] *(np.array)* wypełnioną losowymi liczbami całkowitymi z przedziału od 0 do 100:\n",
    "- wykonaj sortowanie wszystki kolumn macierzy tak aby po lewej stronie były kolumny, których średnia arytmetyczna wszystkich elementów jest najmniejsza\n"
   ]
  },
  {
   "cell_type": "code",
   "execution_count": 10,
   "metadata": {},
   "outputs": [],
   "source": [
    "#...\n"
   ]
  },
  {
   "cell_type": "markdown",
   "metadata": {},
   "source": [
    "#### Zadanie 1.3 \n",
    "Utwórz dwie tablice: x1:[1 x 20] oraz x2:[1 x 100] wypełnione równodległymi liczbami z przedziału [0,2pi] ***(np.linspace)***\n",
    "\n",
    "- wyświetl i przeanalizuj poprawność odwzorowania przebiegów y(x1) oraz y(x2) dla następującej funkcji: \n",
    "\n",
    "$$y=3cos(100x)$$\n"
   ]
  },
  {
   "cell_type": "code",
   "execution_count": null,
   "metadata": {},
   "outputs": [],
   "source": [
    "\"\"\"\n",
    "# Utwórz tablice x1, x2\n",
    "\n",
    "\"\"\"\n",
    "\n",
    "# Prezentacja przebiegów na dwóch wykresach:\n",
    "plt.figure(figsize=(15,5))\n",
    "\n",
    "plt.subplot(121)\n",
    "#plt.plot(...)\n",
    "plt.grid(True)\n",
    "\n",
    "plt.subplot(122)\n",
    "#plt.plot(...)\n",
    "plt.grid(True)\n"
   ]
  },
  {
   "cell_type": "markdown",
   "metadata": {},
   "source": [
    "#### Zadanie 1.4 \n",
    "Utwórz tablicę [5x5] wypełnioną liczbami losowymi\n",
    " \n",
    " - zaprezentuj wszelkie możliwe obliczenia macierzowe dostępne w pakiecie numpy\n",
    "\n",
    " \n",
    " "
   ]
  },
  {
   "cell_type": "code",
   "execution_count": 16,
   "metadata": {},
   "outputs": [
    {
     "ename": "TypeError",
     "evalue": "'out' must be an array",
     "output_type": "error",
     "traceback": [
      "\u001b[0;31m---------------------------------------------------------------------------\u001b[0m",
      "\u001b[0;31mTypeError\u001b[0m                                 Traceback (most recent call last)",
      "\u001b[0;32m<ipython-input-16-8c25f9c27b5c>\u001b[0m in \u001b[0;36m<module>\u001b[0;34m\u001b[0m\n\u001b[1;32m      1\u001b[0m \u001b[0;31m#...\u001b[0m\u001b[0;34m\u001b[0m\u001b[0;34m\u001b[0m\u001b[0;34m\u001b[0m\u001b[0m\n\u001b[0;32m----> 2\u001b[0;31m \u001b[0mprint\u001b[0m\u001b[0;34m(\u001b[0m\u001b[0mnp\u001b[0m\u001b[0;34m.\u001b[0m\u001b[0mdot\u001b[0m\u001b[0;34m(\u001b[0m\u001b[0;36m3\u001b[0m\u001b[0;34m,\u001b[0m\u001b[0;36m4\u001b[0m\u001b[0;34m,\u001b[0m\u001b[0;36m5\u001b[0m\u001b[0;34m)\u001b[0m\u001b[0;34m)\u001b[0m\u001b[0;34m\u001b[0m\u001b[0;34m\u001b[0m\u001b[0m\n\u001b[0m",
      "\u001b[0;32m<__array_function__ internals>\u001b[0m in \u001b[0;36mdot\u001b[0;34m(*args, **kwargs)\u001b[0m\n",
      "\u001b[0;31mTypeError\u001b[0m: 'out' must be an array"
     ]
    }
   ],
   "source": [
    "#...\n"
   ]
  },
  {
   "cell_type": "markdown",
   "metadata": {},
   "source": [
    "#### Zadanie 1.5 \n",
    "Utwórz tablicę [12x13] wypełnioną liczbami całkowitymi, tak jak w tabliczce mnożenia. \n",
    "- wyświetl wszystkie nieparzyste elementy macierzy oraz policz ich sumę\n",
    "- podnieś do kwadratu elmenty leżące na przekątnej diagnonalnej "
   ]
  },
  {
   "cell_type": "code",
   "execution_count": 6,
   "metadata": {},
   "outputs": [],
   "source": [
    "#...\n"
   ]
  },
  {
   "cell_type": "markdown",
   "metadata": {},
   "source": [
    "#### Zadanie 1.6 \n",
    "Utwórz tablicę [1x100] elementów wypełnioną liczbami losowymi o rozkładzie jednostajnym ciągłym *(np.random.rand)* z przedziału od 0 do 100. \n",
    "- zaprezentuj elementy tablicy za pomocą wykresu *(plt.plot)* oraz histogramu *(plt.hist)*\n",
    "- oceń jak zmienia się postać histogramu w miarę zwiększania (x10, x100 itd.) liczby elementów wektora\n",
    "- wykorzystując obliczenia numeryczne wykaż ile wynosi prawdopodobieństwo wylosowania liczby podzielnej przez 3\n"
   ]
  },
  {
   "cell_type": "code",
   "execution_count": null,
   "metadata": {},
   "outputs": [],
   "source": [
    "\"\"\"\n",
    "Utworzenie tablicy\n",
    "\n",
    "\"\"\"\n",
    "\n",
    "# Wykresy\n",
    "# plt.figure(figsize=(15,5))\n",
    "\n",
    "# plt.subplot(121)\n",
    "\n",
    "# plt.plot(...\n",
    "\n",
    "# plt.grid(True)\n",
    "\n",
    "# plt.subplot(122)\n",
    "\n",
    "# plt.hist(...\n",
    "\n",
    "# plt.grid(True)"
   ]
  },
  {
   "cell_type": "markdown",
   "metadata": {},
   "source": [
    "#### Zadanie 1.7 \n",
    "Utwórz tablicę [1x100] elementów wypełnioną liczbami losowymi o rozkładzie normalnym *(np.random.normal)* o środku rozkładu w punkcie 0 oraz odchyleniu standardowym 100. (https://numpy.org/doc/stable/reference/random/generated/numpy.random.normal.html)\n",
    "- zaprezentuj elementy tablicy za pomocą wykresu oraz histogramu\n",
    "- oceń jak zmienia się postać histogramu w miarę zwiększania (x10, x100 itd.) liczby elementów tablicy\n",
    "- wykorzystując obliczenia numeryczne porównaj ile wynosi prawdopodobieństwo wylosowania liczby z przedziału <0,10> względem liczby z przedziału <90,100>"
   ]
  },
  {
   "cell_type": "code",
   "execution_count": null,
   "metadata": {},
   "outputs": [],
   "source": [
    "\"\"\"\n",
    "Utworzenie tablicy\n",
    "\n",
    "\"\"\"\n",
    "\n",
    "# Wykresy\n",
    "# plt.figure(figsize=(15,5))\n",
    "\n",
    "# plt.subplot(121)\n",
    "\n",
    "# plt.plot(...\n",
    "\n",
    "# plt.grid(True)\n",
    "\n",
    "# plt.subplot(122)\n",
    "\n",
    "# plt.hist(...\n",
    "\n",
    "# plt.grid(True)"
   ]
  },
  {
   "cell_type": "markdown",
   "metadata": {},
   "source": [
    "#### Zadanie 1.8 \n",
    "Oblicz wartość wyrażenia:\n",
    "\n",
    "$$\\begin{gathered}5\\\\ \\prod \\\\ i=1\\end{gathered} \\sum^{5}_{j=i+1} (i+j)=$$\n"
   ]
  },
  {
   "cell_type": "code",
   "execution_count": null,
   "metadata": {},
   "outputs": [],
   "source": [
    "#...\n"
   ]
  },
  {
   "cell_type": "markdown",
   "metadata": {},
   "source": [
    "#### Zadadanie 1.9 \n",
    "Napisz funkcję wyznaczającą pierwiastek kwadratowy liczby dodatniej z wykorzystaniem metody babilońskiej z zadaną dokładnością:\n",
    "\n",
    "$$x_{0}\\approx \\sqrt{S} $$\n",
    "\n",
    "$$x_{n+1}=\\frac{1}{2} (x_{n}+\\frac{S}{x_{n}} )$$\n",
    "\n",
    "$$\\sqrt{S} =\\lim_{n\\rightarrow \\infty } x_{n}$$\n",
    "\n",
    "- wyposaż funkcję w wykres prezentujący poszczególne przybliżenia poszukiwanego pierwiastka względem numeru iteracji"
   ]
  },
  {
   "cell_type": "code",
   "execution_count": null,
   "metadata": {},
   "outputs": [],
   "source": [
    "def pierwiastek(S, epsilon): #funkcja przyjmująca dwa argumenty: \n",
    "    #liczbę S, dla której szukamy pierwiastka oraz porządaną dokładność poszukiwań\n",
    "    \"\"\"\n",
    "    # ciało funkcji\n",
    "    \"\"\"\n",
    "    return wynik\n",
    "\n",
    "#Przykładowe wywołanie funkcji: print(pierwiastek(15,0.001))"
   ]
  },
  {
   "cell_type": "markdown",
   "metadata": {},
   "source": [
    "# 2. Format liczb zmiennoprzecinkowych"
   ]
  },
  {
   "cell_type": "markdown",
   "metadata": {},
   "source": [
    "### Zadanie 2.1\n",
    "Wygeneruj tablicę [1x32] wypełnioną losowo rozmieszczonymi zerami i jedynkami. Następnie napisz algorytm konwertujący tą tablicę do postaci liczby dziesiętnej z wykorzystaniem standardu IEEE 754 definiującego binarny zapis 32-bitowej liczby zmiennoprzecinkowej. \n",
    "\n",
    "#### Przykład 1:\n",
    "\n",
    "Tablica:\n",
    " [0 1 0 0 0 0 0 0 1 1 1 0 0 0 0 0 0 0 0 0 0 0 0 0 0 0 0 0 0 0 0 0] \n",
    "\n",
    "Wykładnik binarnie:  [1. 0. 0. 0. 0. 0. 0. 1.]\n",
    "\n",
    "Wykładnik dziesiętnie:  129.0 \n",
    "\n",
    "Mantysa binarnie:  [1. 1. 0. 0. 0. 0. 0. 0. 0. 0. 0. 0. 0. 0. 0. 0. 0. 0. 0. 0. 0. 0. 0.]\n",
    "\n",
    "Mantysa dziesiętnie:  0.75 \n",
    "\n",
    "Liczba dziesiętnie:  7.0 \n",
    "\n",
    "Wynik sprawdzenia za pomocą funkcji bitstring:  01000000111000000000000000000000\n",
    "\n",
    "#### Przykład 2:\n",
    "\n",
    "Tablica:\n",
    " [1. 1. 0. 0. 1. 1. 0. 0. 1. 1. 1. 0. 1. 0. 0. 1. 1. 1. 1. 1. 1. 1. 0. 1.\n",
    " 0. 0. 1. 1. 1. 1. 1. 1.] \n",
    "\n",
    "Wykładnik binarnie:  [1. 0. 0. 1. 1. 0. 0. 1.]\n",
    "\n",
    "Wykładnik dziesiętnie:  153.0 \n",
    "\n",
    "Mantysa binarnie:  [1. 1. 0. 1. 0. 0. 1. 1. 1. 1. 1. 1. 1. 0. 1. 0. 0. 1. 1. 1. 1. 1. 1.]\n",
    "\n",
    "Mantysa dziesiętnie:  0.8280409574508667 \n",
    "\n",
    "Liczba dziesiętnie:  -122677752.0 \n",
    "\n",
    "Wynik sprawdzenia za pomocą funkcji bitstring:  11001100111010011111110100111111"
   ]
  },
  {
   "cell_type": "code",
   "execution_count": null,
   "metadata": {},
   "outputs": [],
   "source": [
    "\"\"\"\n",
    "...\n",
    "\n",
    "\"\"\"\n",
    "\n",
    "# Do oceny poprawności opracowanej metody można wykorzystać funkcję bitstring, \n",
    "# która po przyjęciu argumentu typu float zwraca zapis w postaci binarnej.\n",
    "\"\"\"\n",
    "import bitstring\n",
    "f1 = bitstring.BitArray(float=wynik, length=32)\n",
    "print(f1.bin)\n",
    "\n",
    "\"\"\""
   ]
  },
  {
   "cell_type": "markdown",
   "metadata": {},
   "source": [
    "# 3. Interpolacja wielomianowa"
   ]
  },
  {
   "cell_type": "markdown",
   "metadata": {},
   "source": [
    "#### Zadanie 3.1\n",
    "Dla funkcji: $$y=\\frac{1}{5+2*x^{6}} $$\n",
    "\n",
    "wyznacz numerycznie metodą Lagrange'a wielomian interpolacyjny oparty na różnej liczbie równoodległych węzłow (np. 4, 15, 25). \n",
    "- zaproponuj i zastosuj miarę liczbową oceny jakości odwzorowania zadanej funkcji przez wielomian interpolacyjny\n",
    "- donaj analizy wpływu ilości węzłów interpolacji na jakość odwzorowania zadanej funkcji przez wielomian interpolacyjny; dla jakiej liczby węzłów odwzorowanie jest najlepsze\n",
    "- zweryfikuj jakie efekty daje zastosowanie dedykowanej metody ***lagrange*** z pakietu ***scipy.interpolate*** --> https://docs.scipy.org/doc/scipy/reference/generated/scipy.interpolate.lagrange.html\n",
    "- zweryfikuj jakie efekty daje zastosowanie dedykowanej metody splajnowej ***(splrep, splev)*** z pakietu ***scipy.interpolate*** --> https://docs.scipy.org/doc/scipy/reference/tutorial/interpolate.html#id5"
   ]
  },
  {
   "cell_type": "code",
   "execution_count": 21,
   "metadata": {},
   "outputs": [
    {
     "data": {
      "image/png": "[encoded data removed]",
      "text/plain": [
       "<Figure size 432x288 with 1 Axes>"
      ]
     },
     "metadata": {
      "needs_background": "light"
     },
     "output_type": "display_data"
    }
   ],
   "source": [
    "# Wyznaczenie i wyświetlenie funkcji y(x) dla zakresu <-5,5> oraz zadanej rozdzielczości 100 punktów\n",
    "x=np.linspace(-5,5,100)\n",
    "y=1/(5+2*x**6)\n",
    "plt.plot(x,y)\n",
    "\n",
    "# Wyznaczenie i wyświetlenie zadanej liczby węzłów interpolacji dla funkcji y(x)\n",
    "xw=np.linspace(-5,5,25)\n",
    "yw=1/(5+2*xw**6)\n",
    "plt.scatter(xw,yw,color=\"red\")\n",
    "plt.grid(True)"
   ]
  },
  {
   "cell_type": "code",
   "execution_count": null,
   "metadata": {},
   "outputs": [],
   "source": [
    "\"\"\"\n",
    "# Metoda Lagrange'a\n",
    "\n",
    "\"\"\""
   ]
  },
  {
   "cell_type": "code",
   "execution_count": null,
   "metadata": {},
   "outputs": [],
   "source": [
    "\"\"\"\n",
    "# Funkcja interpolate paketu scipy\n",
    "\n",
    "\"\"\""
   ]
  },
  {
   "cell_type": "code",
   "execution_count": null,
   "metadata": {},
   "outputs": [],
   "source": [
    "\"\"\"\n",
    "# Funkcja splrep,splev paketu scipy\n",
    "\n",
    "\"\"\""
   ]
  },
  {
   "cell_type": "markdown",
   "metadata": {},
   "source": [
    "# 4. Rozwiązywanie równań nieliniowych"
   ]
  },
  {
   "cell_type": "markdown",
   "metadata": {},
   "source": [
    "#### Zadanie 4.1\n",
    "Wyznacz miejsce zerowe funkcji:\n",
    "$$y=log(10x)-3cos(2x)-5$$\n",
    "z zadaną dokładnością, wykorzystując metodę bisekcji oraz metodę Regula-Falsi.\n",
    "- porównaj szybkość i skuteczność działania obu metod w zależności od wyboru zakresu poszukiwań lub punktu startowego"
   ]
  },
  {
   "cell_type": "code",
   "execution_count": 34,
   "metadata": {},
   "outputs": [
    {
     "data": {
      "image/png": "[encoded data removed]",
      "text/plain": [
       "<Figure size 432x288 with 1 Axes>"
      ]
     },
     "metadata": {
      "needs_background": "light"
     },
     "output_type": "display_data"
    }
   ],
   "source": [
    "# Wyznaczenie i wyświetlenie funkcji y(x) dla zakresu <-5,5> oraz zadanej rozdzielczości 100 punktów\n",
    "x=np.linspace(0.1,10,100)\n",
    "y=np.log10(5*x)-np.sin(2*x)-1\n",
    "plt.plot(x,y)\n",
    "plt.grid(True)"
   ]
  },
  {
   "cell_type": "code",
   "execution_count": null,
   "metadata": {},
   "outputs": [],
   "source": [
    "\"\"\"\n",
    "# Metoda bisekcji\n",
    "\n",
    "\"\"\""
   ]
  },
  {
   "cell_type": "code",
   "execution_count": null,
   "metadata": {},
   "outputs": [],
   "source": [
    "\"\"\"\n",
    "# Metoda Regula-Falsi\n",
    "\n",
    "\"\"\""
   ]
  }
 ],
 "metadata": {
  "kernelspec": {
   "display_name": "Python 3",
   "language": "python",
   "name": "python3"
  },
  "language_info": {
   "codemirror_mode": {
    "name": "ipython",
    "version": 3
   },
   "file_extension": ".py",
   "mimetype": "text/x-python",
   "name": "python",
   "nbconvert_exporter": "python",
   "pygments_lexer": "ipython3",
   "version": "3.8.8"
  }
 },
 "nbformat": 4,
 "nbformat_minor": 4
}
