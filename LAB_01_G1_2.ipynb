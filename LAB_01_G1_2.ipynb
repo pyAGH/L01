{
 "cells": [
  {
   "cell_type": "markdown",
   "metadata": {},
   "source": [
    "# 1. Podstawowe operacje na liczbach i tablicach w Python "
   ]
  },
  {
   "cell_type": "markdown",
   "metadata": {},
   "source": [
    "Lab_01, grupa 1.2, 15.05.2022\n",
    "Termin realizacji: 29.05.2022\n",
    "\n",
    "Wykonawcy:\n",
    "...\n",
    "...\n",
    "...\n"
   ]
  },
  {
   "cell_type": "code",
   "execution_count": null,
   "metadata": {},
   "outputs": [],
   "source": [
    "import sys\n",
    "!{sys.executable} -m pip install numpy\n",
    "!{sys.executable} -m pip install matplotlib\n",
    "!{sys.executable} -m pip install scipy\n",
    "!{sys.executable} -m pip install bitstring"
   ]
  },
  {
   "cell_type": "markdown",
   "metadata": {
    "pycharm": {
     "name": "#%% md\n"
    }
   },
   "source": [
    "#### Zadanie 1.1 \n",
    "Zaimportuj pakiet numpy oraz bibliotekę pyplot"
   ]
  },
  {
   "cell_type": "code",
   "execution_count": 2,
   "metadata": {},
   "outputs": [],
   "source": [
    "import numpy as np\n",
    "\n",
    "import matplotlib.pyplot as plt"
   ]
  },
  {
   "cell_type": "markdown",
   "metadata": {
    "pycharm": {
     "name": "#%% md\n"
    }
   },
   "source": [
    "#### Zadanie 1.2 \n",
    "Utwórz tablicę [1x10] *(np.array)* o następującej zawartości:\n",
    "[2, 4, 7, 12, 4, 6, 10, 0, 0, 4]\n",
    "- odczytaj i wyświetl liczbę elementów tablicy\n",
    "- wyświetl wartości: sumę, średnią, maksymalną, minimalną elementów tablicy\n",
    "- posortuj tablicę"
   ]
  },
  {
   "cell_type": "code",
   "execution_count": 3,
   "metadata": {
    "pycharm": {
     "name": "#%%\n"
    }
   },
   "outputs": [],
   "source": [
    "#..."
   ]
  },
  {
   "cell_type": "markdown",
   "metadata": {
    "pycharm": {
     "name": "#%% md\n"
    }
   },
   "source": [
    "#### Zadanie 1.3 \n",
    "Utwórz dwie tablice: x1:[1 x 10] oraz x2:[1 x 100] wypełnione równodległymi liczbami z przedziału [0,2pi] ***(np.linspace)***\n",
    "\n",
    "- wyświetl i przeanalizuj poprawność odwzorowania przebiegów y(x1) oraz y(x2) dla następującej funkcji: \n",
    "\n",
    "$$y=sin(x)+0.1cos(7x)$$\n"
   ]
  },
  {
   "cell_type": "code",
   "execution_count": 8,
   "metadata": {},
   "outputs": [
    {
     "data": {
      "text/plain": [
       "'\\nplt.figure(figsize=(15,5))\\n\\nplt.subplot(121)\\n#plt.plot(...)\\nplt.grid(True)\\n\\nplt.subplot(122)\\n#plt.plot(...)\\nplt.grid(True)\\n'"
      ]
     },
     "execution_count": 8,
     "metadata": {},
     "output_type": "execute_result"
    }
   ],
   "source": [
    "\"\"\"\n",
    "# Utwórz tablice x1, x2\n",
    "\n",
    "\"\"\"\n",
    "\n",
    "\n",
    "plt.figure(figsize=(15,5))\n",
    "\n",
    "plt.subplot(121)\n",
    "#plt.plot(...)\n",
    "plt.grid(True)\n",
    "\n",
    "plt.subplot(122)\n",
    "#plt.plot(...)\n",
    "plt.grid(True)\n"
   ]
  },
  {
   "cell_type": "markdown",
   "metadata": {
    "pycharm": {
     "name": "#%% md\n"
    }
   },
   "source": [
    "#### Zadanie 1.4 \n",
    "Utwórz tablicę [3x4] wypełnioną liczbami losowymi całkowitymi o rozkładzie jednostajnym ciągłym - ***(np.random.randint)***) z zakresu <0,9>\n",
    " \n",
    " - wykonaj mnożenie ***(tab x tab)*** metodą \"element przez element\"\n",
    " - wykonaj mnożenie macierzowe tablicy ***tab*** przez jej postać transponowaną ***(tab x tab.T)***\n",
    " - na dobranych przez siebie przykładach zaprezentuj zasady rozgłaszania (broadcasting) jakie Python stosuje w operacjach macierzowych\n",
    " \n",
    "Przykład (do pierwszych dwóch punktów):\n",
    "\n",
    "t1: \n",
    " [[6. 1. 5. 4.]\n",
    " [9. 6. 7. 3.]\n",
    " [8. 6. 2. 7.]]\n",
    " \n",
    "t2: \n",
    " [[36.  1. 25. 16.]\n",
    " [81. 36. 49.  9.]\n",
    " [64. 36.  4. 49.]]\n",
    " \n",
    "t3: \n",
    " [[ 78. 107.  92.]\n",
    " [107. 175. 143.]\n",
    " [ 92. 143. 153.]]\n",
    " \n",
    " "
   ]
  },
  {
   "cell_type": "code",
   "execution_count": 9,
   "metadata": {},
   "outputs": [
    {
     "data": {
      "text/plain": [
       "'\\nzeros, shape, \\n\\n'"
      ]
     },
     "execution_count": 9,
     "metadata": {},
     "output_type": "execute_result"
    }
   ],
   "source": [
    "#...\n"
   ]
  },
  {
   "cell_type": "markdown",
   "metadata": {
    "pycharm": {
     "name": "#%% md\n"
    }
   },
   "source": [
    "#### Zadanie 1.5 \n",
    "Utwórz tablicę [8x10] wypełnioną losowymi liczbami całkowitymi z przedziału <0,100> \n",
    "- uszereguj poszczególne wiersze tej tablicy w zależności od sumy wszystkich elementów danego wiersza (od min do max)\n",
    "\n",
    "Przykład:\n",
    "\n",
    "t1: \n",
    " [[ 38.  54.  80.  87.  87.]\n",
    " [ 34.   4.  87.  34.  72.]\n",
    " [ 56.  96.  45.  78.  69.]\n",
    " [  9.  58.  63.  53.  98.]\n",
    " [ 23.  87. 100.  89.  48.]\n",
    " [ 51.  41.  98.  86.  25.]\n",
    " [ 69. 100.  99.  90.  67.]\n",
    " [ 27.  38.  79.  54.  63.]]\n",
    "\n",
    "t2: \n",
    " [[ 69. 100.  99.  90.  67.]\n",
    " [ 23.  87. 100.  89.  48.]\n",
    " [ 38.  54.  80.  87.  87.]\n",
    " [ 56.  96.  45.  78.  69.]\n",
    " [ 51.  41.  98.  86.  25.]\n",
    " [  9.  58.  63.  53.  98.]\n",
    " [ 27.  38.  79.  54.  63.]\n",
    " [ 34.   4.  87.  34.  72.]]"
   ]
  },
  {
   "cell_type": "code",
   "execution_count": 70,
   "metadata": {},
   "outputs": [
    {
     "name": "stdout",
     "output_type": "stream",
     "text": [
      "t1: \n",
      " [[ 38.  54.  80.  87.  87.]\n",
      " [ 34.   4.  87.  34.  72.]\n",
      " [ 56.  96.  45.  78.  69.]\n",
      " [  9.  58.  63.  53.  98.]\n",
      " [ 23.  87. 100.  89.  48.]\n",
      " [ 51.  41.  98.  86.  25.]\n",
      " [ 69. 100.  99.  90.  67.]\n",
      " [ 27.  38.  79.  54.  63.]]\n",
      "t2: \n",
      " [[ 69. 100.  99.  90.  67.]\n",
      " [ 23.  87. 100.  89.  48.]\n",
      " [ 38.  54.  80.  87.  87.]\n",
      " [ 56.  96.  45.  78.  69.]\n",
      " [ 51.  41.  98.  86.  25.]\n",
      " [  9.  58.  63.  53.  98.]\n",
      " [ 27.  38.  79.  54.  63.]\n",
      " [ 34.   4.  87.  34.  72.]]\n"
     ]
    }
   ],
   "source": [
    "#...\n"
   ]
  },
  {
   "cell_type": "markdown",
   "metadata": {
    "pycharm": {
     "name": "#%% md\n"
    }
   },
   "source": [
    "#### Zadanie 1.6 \n",
    "Utwórz tablicę [1x100] elementów wypełnioną liczbami losowymi o rozkładzie jednostajnym ciągłym *(np.random.rand)* z przedziału od 0 do 100. \n",
    "- zaprezentuj elementy wektora za pomocą wykresu *(plt.plot)* oraz histogramu *(plt.hist)*\n",
    "- oceń jak zmienia się postać histogramu w miarę zwiększania (x10, x100 itd.) liczby elementów wektora\n",
    "- wykorzystując obliczenia numeryczne wykaż ile wynosi prawdopodobieństwo wylosowania liczby z przedziału <25,75>\n"
   ]
  },
  {
   "cell_type": "code",
   "execution_count": 17,
   "metadata": {
    "pycharm": {
     "name": "#%%\n"
    }
   },
   "outputs": [
    {
     "data": {
      "text/plain": [
       "'\\nUtworzenie tablicy\\n\\n'"
      ]
     },
     "execution_count": 17,
     "metadata": {},
     "output_type": "execute_result"
    }
   ],
   "source": [
    "\"\"\"\n",
    "Utworzenie tablicy\n",
    "\n",
    "\"\"\"\n",
    "\n",
    "# Wykresy\n",
    "# plt.figure(figsize=(15,5))\n",
    "\n",
    "# plt.subplot(121)\n",
    "\n",
    "# plt.plot(...\n",
    "\n",
    "# plt.grid(True)\n",
    "\n",
    "# plt.subplot(122)\n",
    "\n",
    "# plt.hist(...\n",
    "\n",
    "# plt.grid(True)"
   ]
  },
  {
   "cell_type": "markdown",
   "metadata": {},
   "source": [
    "#### Zadanie 1.7 \n",
    "Utwórz tablicę [1x100] elementów wypełnioną liczbami losowymi o rozkładzie normalnym *(np.random.normal)* o środku rozkładu w punkcie 50 oraz odchyleniu standardowym 25.\n",
    "- zaprezentuj elementy wektora za pomocą wykresu oraz histogramu\n",
    "- oceń jak zmienia się postać histogramu w miarę zwiększania (x10, x100 itd.) liczby elementów wektora\n",
    "- wykorzystując obliczenia numeryczne wykaż ile wynosi prawdopodobieństwo wylosowania liczby z przedziału <25,75>"
   ]
  },
  {
   "cell_type": "code",
   "execution_count": null,
   "metadata": {},
   "outputs": [],
   "source": [
    "\"\"\"\n",
    "Utworzenie tablicy\n",
    "\n",
    "\"\"\"\n",
    "\n",
    "# Wykresy\n",
    "# plt.figure(figsize=(15,5))\n",
    "\n",
    "# plt.subplot(121)\n",
    "\n",
    "# plt.plot(...\n",
    "\n",
    "# plt.grid(True)\n",
    "\n",
    "# plt.subplot(122)\n",
    "\n",
    "# plt.hist(...\n",
    "\n",
    "# plt.grid(True)"
   ]
  },
  {
   "cell_type": "markdown",
   "metadata": {},
   "source": [
    "#### Zadanie 1.8 \n",
    "Oblicz wartość wyrażeń:\n",
    "\n",
    "$$\\sqrt[3]{\\sum^{10}_{i=1} \\prod^{i}_{j=1} cos(\\pi \\cdot i)}= $$\n",
    "\n",
    "x=[ 0.00000000e+00  1.24347388e+02  2.09215359e+02  2.27658932e+02\n",
    "  1.73822402e+02  6.47984881e+01 -6.47984881e+01 -1.73822402e+02\n",
    " -2.27658932e+02 -2.09215359e+02 -1.24347388e+02 -5.63337528e-14]\n",
    "\n",
    "$$\\sqrt{\\frac{1}{n} \\sum^{11}_{0} x[i]}= $$\n"
   ]
  },
  {
   "cell_type": "code",
   "execution_count": 25,
   "metadata": {},
   "outputs": [],
   "source": [
    "#...\n"
   ]
  },
  {
   "cell_type": "markdown",
   "metadata": {
    "pycharm": {
     "name": "#%% md\n"
    }
   },
   "source": [
    "#### Zadadanie 1.9 \n",
    "Napisz funkcję wyznaczającą pierwiastek kwadratowy liczby dodatniej z wykorzystaniem metody babilońskiej z zadaną dokładnością:\n",
    "\n",
    "$$x_{0}\\approx \\sqrt{S} $$\n",
    "\n",
    "$$x_{n+1}=\\frac{1}{2} (x_{n}+\\frac{S}{x_{n}} )$$\n",
    "\n",
    "$$\\sqrt{S} =\\lim_{n\\rightarrow \\infty } x_{n}$$\n",
    "\n",
    "- wyposaż funkcję w wykres prezentujący poszczególne przybliżenia poszukiwanego pierwiastka"
   ]
  },
  {
   "cell_type": "code",
   "execution_count": null,
   "metadata": {},
   "outputs": [],
   "source": [
    "def pierwiastek(S, epsilon): #funkcja przyjmująca dwa argumenty: \n",
    "    #liczbę S, dla której szukamy pierwiastka oraz porządaną dokładność poszukiwań\n",
    "    \"\"\"\n",
    "    # Ciało funkcji\n",
    "    \"\"\"\n",
    "    return wynik\n",
    "\n",
    "#Przykładowe wywołanie funkcji: print(pierwiastek(15,0.001))"
   ]
  },
  {
   "cell_type": "markdown",
   "metadata": {
    "pycharm": {
     "name": "#%% md\n"
    }
   },
   "source": [
    "# 2. Format liczb zmiennoprzecinkowych"
   ]
  },
  {
   "cell_type": "markdown",
   "metadata": {},
   "source": [
    "### Zadanie 2.1\n",
    "Wygeneruj tablicę [1x32] wypełnioną losowo rozmieszczonymi zerami i jedynkami. Następnie napisz algorytm konwertujący tą tablicę do postaci liczby dziesiętnej z wykorzystaniem standardu IEEE 754 definiującego binarny zapis 32-bitowej liczby zmiennoprzecinkowej. \n",
    "\n",
    "#### Przykład 1:\n",
    "\n",
    "Tablica:\n",
    " [0 1 0 0 0 0 0 0 1 1 1 0 0 0 0 0 0 0 0 0 0 0 0 0 0 0 0 0 0 0 0 0] \n",
    "\n",
    "Wykładnik binarnie:  [1. 0. 0. 0. 0. 0. 0. 1.]\n",
    "\n",
    "Wykładnik dziesiętnie:  129.0 \n",
    "\n",
    "Mantysa binarnie:  [1. 1. 0. 0. 0. 0. 0. 0. 0. 0. 0. 0. 0. 0. 0. 0. 0. 0. 0. 0. 0. 0. 0.]\n",
    "\n",
    "Mantysa dziesiętnie:  0.75 \n",
    "\n",
    "Liczba dziesiętnie:  7.0 \n",
    "\n",
    "Wynik sprawdzenia za pomocą funkcji bitstring:  01000000111000000000000000000000\n",
    "\n",
    "#### Przykład 2:\n",
    "\n",
    "Tablica:\n",
    " [1. 1. 0. 0. 1. 1. 0. 0. 1. 1. 1. 0. 1. 0. 0. 1. 1. 1. 1. 1. 1. 1. 0. 1.\n",
    " 0. 0. 1. 1. 1. 1. 1. 1.] \n",
    "\n",
    "Wykładnik binarnie:  [1. 0. 0. 1. 1. 0. 0. 1.]\n",
    "\n",
    "Wykładnik dziesiętnie:  153.0 \n",
    "\n",
    "Mantysa binarnie:  [1. 1. 0. 1. 0. 0. 1. 1. 1. 1. 1. 1. 1. 0. 1. 0. 0. 1. 1. 1. 1. 1. 1.]\n",
    "\n",
    "Mantysa dziesiętnie:  0.8280409574508667 \n",
    "\n",
    "Liczba dziesiętnie:  -122677752.0 \n",
    "\n",
    "Wynik sprawdzenia za pomocą funkcji bitstring:  11001100111010011111110100111111"
   ]
  },
  {
   "cell_type": "code",
   "execution_count": null,
   "metadata": {},
   "outputs": [],
   "source": [
    "\"\"\"\n",
    "...\n",
    "\n",
    "\"\"\"\n",
    "\n",
    "# Do oceny poprawności opracowanej metody można wykorzystać funkcję bitstring, która po przyjęciu\n",
    "# argumentu typu float zwraca wartość w postaci binarnej.\n",
    "\"\"\"\n",
    "import bitstring\n",
    "f1 = bitstring.BitArray(float=wynik, length=32)\n",
    "print(f1.bin)\n",
    "\n",
    "\"\"\""
   ]
  },
  {
   "cell_type": "markdown",
   "metadata": {
    "pycharm": {
     "name": "#%% md\n"
    }
   },
   "source": [
    "# 3. Interpolacja wielomianowa"
   ]
  },
  {
   "cell_type": "markdown",
   "metadata": {},
   "source": [
    "#### Zadanie 3.1\n",
    "Dla funkcji: $$y=cos(3x)\\frac{1}{1+x^{2}}  $$\n",
    "wyznacz numerycznie metodą Lagrange'a wielomian interpolacyjny oparty na różnej liczbie równoodległych węzłow (np. 4, 15, 25). \n",
    "- zaproponuj i zastosuj miarę liczbową oceny jakości odwzorowania zadanej funkcji przez wielomian interpolacyjny\n",
    "- donaj analizy wpływu ilości węzłów interpolacji na jakość odwzorowania zadanej funkcji przez wielomian interpolacyjny; dla jakiej liczby węzłów odwzorowanie jest najlepsze\n",
    "- zweryfikuj jakie efekty daje zastosowanie dedykowanej metody ***lagrange*** z pakietu ***scipy.interpolate***\n",
    "- zweryfikuj jakie efekty daje zastosowanie dedykowanej metody splajnowej ***(splrep, splev)*** z pakietu ***scipy.interpolate*** --> https://docs.scipy.org/doc/scipy/reference/tutorial/interpolate.html#id5"
   ]
  },
  {
   "cell_type": "code",
   "execution_count": null,
   "metadata": {
    "collapsed": false,
    "jupyter": {
     "outputs_hidden": false
    },
    "pycharm": {
     "name": "#%%\n"
    }
   },
   "outputs": [],
   "source": [
    "# Wyznaczenie i wyświetlenie funkcji y(x) dla zakresu <-5,5> oraz zadanej rozdzielczości 100 punktów\n",
    "x=np.linspace(-5,5,100)\n",
    "y=np.cos(3*x)*1/(1+x**2)\n",
    "plt.plot(x,y)\n",
    "\n",
    "# Wyznaczenie i wyświetlenie zadanej liczby węzłów interpolacji dla funkcji y(x)\n",
    "xw=np.linspace(-5,5,25)\n",
    "yw=np.cos(3*xw)*1/(1+xw**2)\n",
    "plt.scatter(xw,yw,color=\"red\")\n",
    "plt.grid(True)"
   ]
  },
  {
   "cell_type": "code",
   "execution_count": null,
   "metadata": {
    "collapsed": false,
    "jupyter": {
     "outputs_hidden": false
    },
    "pycharm": {
     "name": "#%%\n"
    }
   },
   "outputs": [],
   "source": [
    "\"\"\"\n",
    "# Metoda Lagrange'a\n",
    "\n",
    "# Wykres\n",
    "\n",
    "\"\"\""
   ]
  },
  {
   "cell_type": "code",
   "execution_count": null,
   "metadata": {
    "collapsed": false,
    "jupyter": {
     "outputs_hidden": false
    },
    "pycharm": {
     "name": "#%%\n"
    }
   },
   "outputs": [],
   "source": [
    "\"\"\"\n",
    "# Funkcja interpolate paketu scipy\n",
    "\n",
    "# Wykres\n",
    "\n",
    "\"\"\""
   ]
  },
  {
   "cell_type": "code",
   "execution_count": null,
   "metadata": {
    "collapsed": false,
    "jupyter": {
     "outputs_hidden": false
    },
    "pycharm": {
     "name": "#%%\n"
    }
   },
   "outputs": [],
   "source": [
    "\"\"\"\n",
    "# Funkcje splrep,splev paketu scipy\n",
    "\n",
    "# Wykres\n",
    "\n",
    "\"\"\""
   ]
  },
  {
   "cell_type": "markdown",
   "metadata": {},
   "source": [
    "# 4. Rozwiązywanie równań nieliniowych"
   ]
  },
  {
   "cell_type": "markdown",
   "metadata": {},
   "source": [
    "#### Zadanie 4.1\n",
    "Wyznacz miejsca zerowe funkcji:\n",
    "$$y=x\\cdot cos(x)$$\n",
    "Zawarte w przedziale <0, 2*pi>, z zadaną dokładnością, wykorzystując metodę bisekcji oraz metodę Newtona-Raphsona.\n",
    "- porównaj szybkość i skuteczność działania obu metod w zależności od wyboru zakresu poszukiwań lub punktu startowego\n",
    "- porównaj uzyskane wyniki z zastosowaniem dedykowanej funkcji z bilioteki scipy (roots)"
   ]
  },
  {
   "cell_type": "code",
   "execution_count": 28,
   "metadata": {
    "collapsed": false,
    "jupyter": {
     "outputs_hidden": false
    },
    "pycharm": {
     "name": "#%%\n"
    }
   },
   "outputs": [
    {
     "data": {
      "image/png": "[encoded data removed]",
      "text/plain": [
       "<Figure size 432x288 with 1 Axes>"
      ]
     },
     "metadata": {
      "needs_background": "light"
     },
     "output_type": "display_data"
    }
   ],
   "source": [
    "# Wyznaczenie i wyświetlenie funkcji y(x) dla zakresu <-5,5> oraz zadanej rozdzielczości 100 punktów\n",
    "x=np.linspace(-5,5,100)\n",
    "y=x*np.cos(x)\n",
    "plt.plot(x,y)\n",
    "plt.grid(True)"
   ]
  },
  {
   "cell_type": "code",
   "execution_count": null,
   "metadata": {
    "collapsed": false,
    "jupyter": {
     "outputs_hidden": false
    },
    "pycharm": {
     "name": "#%%\n"
    }
   },
   "outputs": [],
   "source": [
    "\"\"\"\n",
    "# Metoda bisekcji\n",
    "\n",
    "\"\"\""
   ]
  },
  {
   "cell_type": "code",
   "execution_count": null,
   "metadata": {
    "collapsed": false,
    "jupyter": {
     "outputs_hidden": false
    },
    "pycharm": {
     "name": "#%%\n"
    }
   },
   "outputs": [],
   "source": [
    "\"\"\"\n",
    "# Metoda Newtona-Raphsona\n",
    "\n",
    "\"\"\""
   ]
  }
 ],
 "metadata": {
  "kernelspec": {
   "display_name": "Python 3",
   "language": "python",
   "name": "python3"
  },
  "language_info": {
   "codemirror_mode": {
    "name": "ipython",
    "version": 3
   },
   "file_extension": ".py",
   "mimetype": "text/x-python",
   "name": "python",
   "nbconvert_exporter": "python",
   "pygments_lexer": "ipython3",
   "version": "3.8.8"
  }
 },
 "nbformat": 4,
 "nbformat_minor": 4
}
